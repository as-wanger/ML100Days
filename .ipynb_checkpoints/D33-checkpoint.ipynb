{
 "cells": [
  {
   "cell_type": "markdown",
   "metadata": {},
   "source": [
    "## 作業:\n",
    "某工廠想知道兩條不同的生產線的產品不良率是否有所不同，由兩條生產線中各抽取 300 個樣本，第一組有  75 個不良品，第二組有 30 個不良品，我們可以宣稱生產線所生產出的產品不良率不相同? (以 0.05 為顯著水準)?    \n",
    "(提示:透過課程投影片的步驟，需思考 𝐻_0、 𝐻_1 的寫法和範例不同唷。)   \n",
    "\n"
   ]
  },
  {
   "cell_type": "code",
   "execution_count": 2,
   "metadata": {
    "colab": {
     "base_uri": "https://localhost:8080/",
     "height": 34
    },
    "colab_type": "code",
    "executionInfo": {
     "elapsed": 1558,
     "status": "ok",
     "timestamp": 1578021044012,
     "user": {
      "displayName": "Mora chen",
      "photoUrl": "https://lh3.googleusercontent.com/a-/AAuE7mB40f7sDArbZ5_DYq02nNcnLD0Ryaf7AhsASSQeLQ=s64",
      "userId": "03171203089166907199"
     },
     "user_tz": -480
    },
    "id": "yz28_IgkYdBW",
    "outputId": "a12f486c-18b3-4fb5-d06c-f162aebd9444"
   },
   "outputs": [],
   "source": [
    "# library\n",
    "import matplotlib.pyplot as plt\n",
    "import numpy as np\n",
    "import pandas as pd\n",
    "from scipy import stats\n",
    "import math\n",
    "import statistics\n",
    "import seaborn as sns\n",
    "import statsmodels.stats.proportion"
   ]
  },
  {
   "cell_type": "code",
   "execution_count": 7,
   "metadata": {},
   "outputs": [
    {
     "name": "stdout",
     "output_type": "stream",
     "text": [
      "我們會reject H0，原因在於1.3318728439003627e-06會小於預先設定的0.05，即Type Ⅰ error 水準\n",
      "故推翻虛無假設，兩組不良率不相同\n"
     ]
    }
   ],
   "source": [
    "#有兩組比較比較而使用two-sided\n",
    "#虛無假設為 H0 : u0 = u1\n",
    "#對立假設為 H0 : u0 != u1\n",
    "A = [75,30] # 不良品的個數\n",
    "B = [300,300] #各組樣本個數\n",
    "Ans = statsmodels.stats.proportion.proportions_ztest(A, B, alternative='two-sided')\n",
    "alpha = 0.05\n",
    "a = \"reject H0\" if Ans[-1] <= alpha else \"accept H0\"\n",
    "b = \"小於\" if Ans[-1] <= alpha else \"大於\"\n",
    "c = \"推翻虛無假設，兩組不良率不相同\" if Ans[-1] <= alpha else \"不推翻虛無假設，兩組不良率相同\"\n",
    "print(f'我們會{a}，原因在於{Ans[-1]}會{b}預先設定的{alpha}，即Type Ⅰ error 水準\\n故{c}')"
   ]
  }
 ],
 "metadata": {
  "colab": {
   "name": "Day33.YOLO 細節理解 - 網路輸出的後處理_HW.ipynb",
   "provenance": []
  },
  "kernelspec": {
   "display_name": "Python 3",
   "language": "python",
   "name": "python3"
  },
  "language_info": {
   "codemirror_mode": {
    "name": "ipython",
    "version": 3
   },
   "file_extension": ".py",
   "mimetype": "text/x-python",
   "name": "python",
   "nbconvert_exporter": "python",
   "pygments_lexer": "ipython3",
   "version": "3.8.5"
  }
 },
 "nbformat": 4,
 "nbformat_minor": 1
}
