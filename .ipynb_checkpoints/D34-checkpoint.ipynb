{
 "cells": [
  {
   "cell_type": "markdown",
   "metadata": {},
   "source": [
    "## 作業:\n",
    "今天課程中以一個案例，說明資料分析的流程與探索性分析，是否對於課程中一開始的問題，更有想法了?!    \n",
    "Q1: 哪一個問題不適合用資料科學解決?   \n",
    "Q2: 以你的角度來分析，為什麼這樣的問題，較不適合用資料來解決?    \n",
    "將答案寫在論壇中，大家一起互相討論激盪。   \n",
    "![](作業圖檔.PNG)"
   ]
  },
  {
   "cell_type": "markdown",
   "metadata": {},
   "source": [
    "Q1：難以定義的問題、擁有自變數與變數會互相影響的問題(但可能是問題太過巨大，需要經過多層的拆解才有微小的進展)\n",
    "\n",
    "1. 如飼養手冊(ROSS、Arbor Acres、Cobb等)與部分文獻認為白肉雞中纖維的比例要盡可能的低，但是飼料或食物中的纖維來源不盡相同，可能是動物來源或植物來源，其定義又包含可溶性與不可溶性、植物纖維(半纖維素、纖維素、木質素)或果膠、植物膠、膠體、多醣(多醣體)、寡醣等。一般飼料廠與食品科學（食品外包裝列的）使用的粗纖維為稀酸、稀鹼進行反應後殘留下來的部分，纖維來源不明確，也就無法得知其對腸道絨毛細胞的作用與彼此間的交互作用\n",
    "\n",
    "2. 白肉雞對纖維的反應可能受到基因、遺傳、環境（平飼飼養、水廉環控或戶外活動）、腸道發育（日齡）、進食量、飲水量、進食墊料、飼料纖維來源\n",
    "\n",
    "3. 粗纖維可能包含半纖維素、纖維素與木質素，而纖維素是beta-1,4鍵結的glucose，但是當glucose累積會抑制纖維素的降解"
   ]
  }
 ],
 "metadata": {
  "colab": {
   "name": "Day33.YOLO 細節理解 - 網路輸出的後處理_HW.ipynb",
   "provenance": []
  },
  "kernelspec": {
   "display_name": "Python 3",
   "language": "python",
   "name": "python3"
  },
  "language_info": {
   "codemirror_mode": {
    "name": "ipython",
    "version": 3
   },
   "file_extension": ".py",
   "mimetype": "text/x-python",
   "name": "python",
   "nbconvert_exporter": "python",
   "pygments_lexer": "ipython3",
   "version": "3.8.5"
  }
 },
 "nbformat": 4,
 "nbformat_minor": 1
}
