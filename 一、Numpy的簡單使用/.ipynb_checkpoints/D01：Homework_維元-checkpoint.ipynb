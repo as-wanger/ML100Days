{
 "cells": [
  {
   "cell_type": "markdown",
   "metadata": {
    "id": "P6xk2_jLsvFF"
   },
   "source": [
    "# [作業目標]\n",
    "\n",
    "1. [簡答題] 請問下列兩種將 Array 轉換成 List 的方式有何不同？\n",
    "\n",
    "```\n",
    "print('list(a): ', list(a))\n",
    "print('tolist(): ', a.tolist())\n",
    "```\n",
    "\n",
    "2. 請試著在程式中印出以下三個 NdArray 的屬性？（屬性：ndim、shape、size、dtype、itemsize、length、type）\n",
    "\n",
    "```\n",
    "a = np.random.randint(10, size=6) \n",
    "b = np.random.randint(10, size=(3,4)) \n",
    "c = np.random.randint(10, size=(2,3,2)) \n",
    "```\n",
    "\n",
    "3. 如何利用 list(...) 實現 a.tolist() 的效果？試著用程式實作。\n"
   ]
  },
  {
   "cell_type": "markdown",
   "metadata": {
    "id": "uXGll28asvFS"
   },
   "source": [
    "# 作業 "
   ]
  },
  {
   "cell_type": "markdown",
   "metadata": {
    "id": "SYkvkp9YLwB7"
   },
   "source": [
    "### 1. [簡答題] 請問下列兩種將 Array 轉換成 List 的方式有何不同？\n",
    "\n",
    "```\n",
    "print('list(a): ', list(a))\n",
    "print('tolist(): ', a.tolist())\n",
    "```\n"
   ]
  },
  {
   "cell_type": "code",
   "execution_count": 19,
   "metadata": {
    "id": "5QrYoyNWsvFS",
    "outputId": "13f374d0-6f1b-47aa-bbac-c7d1a8c6995c"
   },
   "outputs": [
    {
     "name": "stdout",
     "output_type": "stream",
     "text": [
      "[[[ 0  1  2]\n",
      "  [ 3  4  5]\n",
      "  [ 6  7  8]\n",
      "  [ 9 10 11]\n",
      "  [12 13 14]]\n",
      "\n",
      " [[15 16 17]\n",
      "  [18 19 20]\n",
      "  [21 22 23]\n",
      "  [24 25 26]\n",
      "  [27 28 29]]\n",
      "\n",
      " [[30 31 32]\n",
      "  [33 34 35]\n",
      "  [36 37 38]\n",
      "  [39 40 41]\n",
      "  [42 43 44]]]\n",
      "list(a):  [array([[ 0,  1,  2],\n",
      "       [ 3,  4,  5],\n",
      "       [ 6,  7,  8],\n",
      "       [ 9, 10, 11],\n",
      "       [12, 13, 14]]), array([[15, 16, 17],\n",
      "       [18, 19, 20],\n",
      "       [21, 22, 23],\n",
      "       [24, 25, 26],\n",
      "       [27, 28, 29]]), array([[30, 31, 32],\n",
      "       [33, 34, 35],\n",
      "       [36, 37, 38],\n",
      "       [39, 40, 41],\n",
      "       [42, 43, 44]])]\n",
      "tolist():  [[[0, 1, 2], [3, 4, 5], [6, 7, 8], [9, 10, 11], [12, 13, 14]], [[15, 16, 17], [18, 19, 20], [21, 22, 23], [24, 25, 26], [27, 28, 29]], [[30, 31, 32], [33, 34, 35], [36, 37, 38], [39, 40, 41], [42, 43, 44]]]\n"
     ]
    }
   ],
   "source": [
    "import numpy as np\n",
    "a = np.arange(45).reshape(3, 5, 3)\n",
    "print(a)\n",
    "print('list(a): ', list(a))\n",
    "print('tolist(): ', a.tolist())"
   ]
  },
  {
   "cell_type": "markdown",
   "metadata": {},
   "source": [
    "### ANS1：\n",
    "list()只能最外層，a.tolist可以將屬性完全轉成list，即使a陣列的維度再高也可以"
   ]
  },
  {
   "cell_type": "markdown",
   "metadata": {
    "id": "AC9wUCyALwB9"
   },
   "source": [
    "### 2. 請試著在程式中印出以下三個 NdArray 的屬性並且解釋結果？（屬性：ndim、shape、size、dtype、itemsize、length、type）\n",
    "\n",
    "```\n",
    "a = np.random.randint(10, size=6) \n",
    "b = np.random.randint(10, size=(3,4)) \n",
    "c = np.random.randint(10, size=(2,3,2)) \n",
    "```"
   ]
  },
  {
   "cell_type": "code",
   "execution_count": 53,
   "metadata": {
    "id": "4qARRsdtLwB-"
   },
   "outputs": [
    {
     "name": "stdout",
     "output_type": "stream",
     "text": [
      "a:\n",
      "[9 0 4 0 7 0]\n",
      "b:\n",
      "[[5 4 0 0]\n",
      " [7 3 7 8]\n",
      " [2 5 0 8]]\n",
      "c:\n",
      "[[[8 6]\n",
      "  [3 1]\n",
      "  [4 5]]\n",
      "\n",
      " [[2 3]\n",
      "  [2 2]\n",
      "  [5 0]]]\n"
     ]
    },
    {
     "data": {
      "text/html": [
       "<div>\n",
       "<style scoped>\n",
       "    .dataframe tbody tr th:only-of-type {\n",
       "        vertical-align: middle;\n",
       "    }\n",
       "\n",
       "    .dataframe tbody tr th {\n",
       "        vertical-align: top;\n",
       "    }\n",
       "\n",
       "    .dataframe thead th {\n",
       "        text-align: right;\n",
       "    }\n",
       "</style>\n",
       "<table border=\"1\" class=\"dataframe\">\n",
       "  <thead>\n",
       "    <tr style=\"text-align: right;\">\n",
       "      <th></th>\n",
       "      <th>ndim</th>\n",
       "      <th>shape</th>\n",
       "      <th>size</th>\n",
       "      <th>dtype</th>\n",
       "      <th>itemsize</th>\n",
       "      <th>length</th>\n",
       "      <th>type</th>\n",
       "    </tr>\n",
       "  </thead>\n",
       "  <tbody>\n",
       "    <tr>\n",
       "      <th>a</th>\n",
       "      <td>1</td>\n",
       "      <td>(6,)</td>\n",
       "      <td>6</td>\n",
       "      <td>int32</td>\n",
       "      <td>4</td>\n",
       "      <td>6</td>\n",
       "      <td>&lt;class 'numpy.ndarray'&gt;</td>\n",
       "    </tr>\n",
       "    <tr>\n",
       "      <th>b</th>\n",
       "      <td>2</td>\n",
       "      <td>(3, 4)</td>\n",
       "      <td>12</td>\n",
       "      <td>int32</td>\n",
       "      <td>4</td>\n",
       "      <td>3</td>\n",
       "      <td>&lt;class 'numpy.ndarray'&gt;</td>\n",
       "    </tr>\n",
       "    <tr>\n",
       "      <th>c</th>\n",
       "      <td>3</td>\n",
       "      <td>(2, 3, 2)</td>\n",
       "      <td>12</td>\n",
       "      <td>int32</td>\n",
       "      <td>4</td>\n",
       "      <td>2</td>\n",
       "      <td>&lt;class 'numpy.ndarray'&gt;</td>\n",
       "    </tr>\n",
       "  </tbody>\n",
       "</table>\n",
       "</div>"
      ],
      "text/plain": [
       "   ndim      shape  size  dtype  itemsize  length                     type\n",
       "a     1       (6,)     6  int32         4       6  <class 'numpy.ndarray'>\n",
       "b     2     (3, 4)    12  int32         4       3  <class 'numpy.ndarray'>\n",
       "c     3  (2, 3, 2)    12  int32         4       2  <class 'numpy.ndarray'>"
      ]
     },
     "execution_count": 53,
     "metadata": {},
     "output_type": "execute_result"
    }
   ],
   "source": [
    "# 記得先 Import 正確的套件\n",
    "a = np.random.randint(10, size=6) \n",
    "b = np.random.randint(10, size=(3,4)) \n",
    "c = np.random.randint(10, size=(2,3,2))\n",
    "print(f'a:\\n{a}\\nb:\\n{b}\\nc:\\n{c}')\n",
    "import pandas as pd\n",
    "ans2 = pd.DataFrame({'ndim':[a.ndim,b.ndim,c.ndim],\n",
    "                   'shape':[a.shape,b.shape,c.shape],\n",
    "                   'size':[a.size,b.size,c.size],\n",
    "                   'dtype':[a.dtype,b.dtype,c.dtype],\n",
    "                   'itemsize':[a.itemsize,b.itemsize,c.itemsize],\n",
    "                   'length':[len(a),len(b),len(c)],\n",
    "                   'type':[type(a),type(b),type(c)]},index=list('abc'))\n",
    "ans2"
   ]
  },
  {
   "cell_type": "markdown",
   "metadata": {},
   "source": [
    "## ANS2：\n",
    "陣列由數行開始(如xy座標圖的x軸)<br>\n",
    "ndim直接讀維度<br>\n",
    "shape讀具體行列與更高維的資料數<br>\n",
    "size為總資料數（各維資料數的積）<br>\n",
    "dtype為資料型態，包含位元<br>\n",
    "length只看最高維度的個數<br>\n",
    "itemsize為陣列中每個元素佔用的空間<br>\n",
    "type查看類型"
   ]
  },
  {
   "cell_type": "markdown",
   "metadata": {
    "id": "Uf6zC0QZLwCE"
   },
   "source": [
    "### 3. 如何利用 list(...) 實現 a.tolist() 的效果？試著用程式實作。\n"
   ]
  },
  {
   "cell_type": "code",
   "execution_count": 90,
   "metadata": {
    "id": "sCUzHu_BLwCF",
    "outputId": "ba9c8945-8efb-42b1-f978-2bbdda97accd"
   },
   "outputs": [
    {
     "name": "stdout",
     "output_type": "stream",
     "text": [
      "[9, 4, 3, 2, 6, 3]\n",
      "[9, 4, 3, 2, 6, 3]\n"
     ]
    }
   ],
   "source": [
    "a = np.random.randint(10, size=6) \n",
    "\n",
    "print(a.tolist())\n",
    "print(list(a))"
   ]
  },
  {
   "cell_type": "code",
   "execution_count": 91,
   "metadata": {
    "id": "IUkVtw8RLwCG",
    "outputId": "e39875a5-5ec7-431b-c12a-485acc167e44"
   },
   "outputs": [
    {
     "name": "stdout",
     "output_type": "stream",
     "text": [
      "[[9, 4, 0, 7], [0, 5, 9, 2], [4, 9, 2, 5]]\n",
      "[array([9, 4, 0, 7]), array([0, 5, 9, 2]), array([4, 9, 2, 5])]\n"
     ]
    }
   ],
   "source": [
    "b = np.random.randint(10, size=(3,4)) \n",
    "\n",
    "print(b.tolist())\n",
    "print(list(b))"
   ]
  },
  {
   "cell_type": "code",
   "execution_count": 92,
   "metadata": {
    "id": "NPhF8_CqLwCG",
    "outputId": "51fab908-5bfd-415f-9584-92bb376648c8"
   },
   "outputs": [
    {
     "name": "stdout",
     "output_type": "stream",
     "text": [
      "[[[3, 0], [0, 2], [4, 7]], [[8, 3], [3, 5], [3, 4]]]\n",
      "[array([[3, 0],\n",
      "       [0, 2],\n",
      "       [4, 7]]), array([[8, 3],\n",
      "       [3, 5],\n",
      "       [3, 4]])]\n"
     ]
    }
   ],
   "source": [
    "c = np.random.randint(10, size=(2,3,2)) \n",
    "\n",
    "print(c.tolist())\n",
    "print(list(c))"
   ]
  },
  {
   "cell_type": "code",
   "execution_count": 121,
   "metadata": {
    "id": "3Hc8vQYtLwCH",
    "outputId": "1290bc93-84ca-4da4-eb1a-315da37afaff"
   },
   "outputs": [
    {
     "name": "stdout",
     "output_type": "stream",
     "text": [
      "[9, 4, 3, 2, 6, 3]\n",
      "[[9, 4, 0, 7], [0, 5, 9, 2], [4, 9, 2, 5]]\n",
      "[[[3, 0], [0, 2], [4, 7]], [[8, 3], [3, 5], [3, 4]]]\n"
     ]
    }
   ],
   "source": [
    "# 陣列屬性走if，內容走else\n",
    "def tolist(iterable):\n",
    "    L=[]\n",
    "    if type(iterable) == np.ndarray:\n",
    "        return [tolist(i) for i in iterable]    \n",
    "    else:\n",
    "        return iterable\n",
    "\n",
    "print(tolist(a))\n",
    "print(tolist(b))\n",
    "print(tolist(c))"
   ]
  }
 ],
 "metadata": {
  "colab": {
   "name": "01Homework_維元.ipynb",
   "provenance": []
  },
  "kernelspec": {
   "display_name": "Python 3",
   "language": "python",
   "name": "python3"
  },
  "language_info": {
   "codemirror_mode": {
    "name": "ipython",
    "version": 3
   },
   "file_extension": ".py",
   "mimetype": "text/x-python",
   "name": "python",
   "nbconvert_exporter": "python",
   "pygments_lexer": "ipython3",
   "version": "3.8.5"
  }
 },
 "nbformat": 4,
 "nbformat_minor": 1
}
