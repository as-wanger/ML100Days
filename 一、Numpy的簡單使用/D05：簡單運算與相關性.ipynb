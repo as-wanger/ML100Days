{
 "cells": [
  {
   "cell_type": "markdown",
   "metadata": {
    "id": "oef8c2jr-PZY"
   },
   "source": [
    "作業目標<br>\n",
    "計算有缺失值的資料，統計量實作<br>\n",
    "作業重點<br>\n",
    "當遇到缺失值有函式可以處理，不須額外寫程式刪除<br>\n",
    "計算統計量時不能出現缺失值"
   ]
  },
  {
   "cell_type": "markdown",
   "metadata": {
    "id": "4YgL8NF4-Ru3"
   },
   "source": [
    "題目:<br>\n",
    "english_score = np.array([55,89,76,65,48,70])<br>\n",
    "math_score = np.array([60,85,60,68,np.nan,60])<br>\n",
    "chinese_score = np.array([65,90,82,72,66,77])<br>\n",
    "上3列共六位同學的英文、數學、國文成績，第一個元素代表第一位同學，舉例第一位同學英文55分、數學60分、國文65分，今天第五位同學因某原因沒來考試，導致數學成績缺值，運用上列數據回答下列問題。<br>\n",
    "1. 請計算各科成績平均、最大值、最小值、標準差，其中數學缺一筆資料可忽略?\n",
    "2. 第五位同學補考數學後成績為55，請計算補考後數學成績平均、最大值、最小值、標準差?\n",
    "3. 用補考後資料找出與國文成績相關係數最高的學科?"
   ]
  },
  {
   "cell_type": "code",
   "execution_count": 1,
   "metadata": {
    "executionInfo": {
     "elapsed": 617,
     "status": "ok",
     "timestamp": 1609854566856,
     "user": {
      "displayName": "献竤黃",
      "photoUrl": "",
      "userId": "07529243043474362942"
     },
     "user_tz": -480
    },
    "id": "QwsKU8qO-RK7"
   },
   "outputs": [],
   "source": [
    "import numpy as np"
   ]
  },
  {
   "cell_type": "code",
   "execution_count": 2,
   "metadata": {
    "executionInfo": {
     "elapsed": 1016,
     "status": "ok",
     "timestamp": 1609854567261,
     "user": {
      "displayName": "献竤黃",
      "photoUrl": "",
      "userId": "07529243043474362942"
     },
     "user_tz": -480
    },
    "id": "B5BqDQAe_czh"
   },
   "outputs": [],
   "source": [
    "english_score = np.array([55,89,76,65,48,70])\n",
    "math_score = np.array([60,85,60,68,np.nan,60])\n",
    "chinese_score = np.array([65,90,82,72,66,77])"
   ]
  },
  {
   "cell_type": "code",
   "execution_count": 57,
   "metadata": {
    "executionInfo": {
     "elapsed": 1005,
     "status": "ok",
     "timestamp": 1609854567262,
     "user": {
      "displayName": "献竤黃",
      "photoUrl": "",
      "userId": "07529243043474362942"
     },
     "user_tz": -480
    },
    "id": "K3tUA6u9aI3N"
   },
   "outputs": [
    {
     "name": "stdout",
     "output_type": "stream",
     "text": [
      "依序為 英文   數學   國文   \n",
      "平均　 67.2   64.7   75.3   \n",
      "最大值 89     85     90     \n",
      "最小值 48     55     65     \n",
      "標準差 13.43  9.86   8.83   \n"
     ]
    }
   ],
   "source": [
    "#1. 請計算各科成績平均、最大值、最小值、標準差，其中數學缺一筆資料可忽略?\n",
    "english_mean=np.mean(english_score)\n",
    "math_mean=np.nanmean(math_score)\n",
    "chinese_mean=np.mean(chinese_score)\n",
    "english_max=np.max(english_score)\n",
    "math_max=np.nanmax(math_score)\n",
    "chinese_max=np.max(chinese_score)\n",
    "english_min=np.min(english_score)\n",
    "math_min=np.nanmin(math_score)\n",
    "chinese_min=np.min(chinese_score)\n",
    "english_std=np.std(english_score)\n",
    "math_std=np.nanstd(math_score)\n",
    "chinese_std=np.std(chinese_score)\n",
    "print('依序為 {:<5}{:<5}{:<5}'.format('英文','數學','國文'))\n",
    "print('平均　 {:<7.1f}{:<7.1f}{:<7.1f}'.format(english_mean,math_mean,chinese_mean))\n",
    "print('最大值 {:<7.0f}{:<7.0f}{:<7.0f}'.format(english_max,math_max,chinese_max))\n",
    "print('最小值 {:<7.0f}{:<7.0f}{:<7.0f}'.format(english_min,math_min,chinese_min))\n",
    "print('標準差 {:<7.2f}{:<7.2f}{:<7.2f}'.format(english_std,math_std,chinese_std))"
   ]
  },
  {
   "cell_type": "code",
   "execution_count": 58,
   "metadata": {
    "executionInfo": {
     "elapsed": 996,
     "status": "ok",
     "timestamp": 1609854567262,
     "user": {
      "displayName": "献竤黃",
      "photoUrl": "",
      "userId": "07529243043474362942"
     },
     "user_tz": -480
    },
    "id": "mXjDzvSrbLlf"
   },
   "outputs": [
    {
     "name": "stdout",
     "output_type": "stream",
     "text": [
      "數學成績　平均：64.7，最大值：85，最小值：55，標準差：9.86\n"
     ]
    }
   ],
   "source": [
    "#2. 第五位同學補考數學後成績為55，請計算補考後數學成績平均、最大值、最小值、標準差?\n",
    "math_score[4]=55\n",
    "math_mean2=np.mean(math_score)\n",
    "math_max2=np.max(math_score)\n",
    "math_min2=np.min(math_score)\n",
    "math_std2=np.std(math_score)\n",
    "print('數學成績　平均：%.1f，最大值：%d，最小值：%d，標準差：%.2f' % (math_mean2,math_max2,math_min2,math_std2))"
   ]
  },
  {
   "cell_type": "code",
   "execution_count": 59,
   "metadata": {
    "executionInfo": {
     "elapsed": 989,
     "status": "ok",
     "timestamp": 1609854567264,
     "user": {
      "displayName": "献竤黃",
      "photoUrl": "",
      "userId": "07529243043474362942"
     },
     "user_tz": -480
    },
    "id": "SaGolKx0cKoU"
   },
   "outputs": [
    {
     "name": "stdout",
     "output_type": "stream",
     "text": [
      "國文 英文 數學\n"
     ]
    },
    {
     "data": {
      "text/plain": [
       "array([[1.        , 0.97792828, 0.74056803],\n",
       "       [0.97792828, 1.        , 0.7855563 ],\n",
       "       [0.74056803, 0.7855563 , 1.        ]])"
      ]
     },
     "execution_count": 59,
     "metadata": {},
     "output_type": "execute_result"
    }
   ],
   "source": [
    "#3. 用補考後資料找出與國文成績相關係數最高的學科?\n",
    "np.corrcoef([chinese_score,english_score,math_score])\n",
    "#Ans:英文與國文有高度相關(約0.98)"
   ]
  },
  {
   "cell_type": "code",
   "execution_count": 79,
   "metadata": {},
   "outputs": [
    {
     "name": "stdout",
     "output_type": "stream",
     "text": [
      "相關係數：\n",
      "國英數\n",
      " [[1.         0.97792828 0.74056803]\n",
      " [0.97792828 1.         0.7855563 ]\n",
      " [0.74056803 0.7855563  1.        ]]\n",
      "P值：\n",
      "國英數\n",
      " [[0.         0.00072536 0.0922269 ]\n",
      " [0.00072536 0.         0.06404843]\n",
      " [0.0922269  0.06404843 0.        ]]\n"
     ]
    }
   ],
   "source": [
    "import scipy.stats.stats as sp\n",
    "L=[chinese_score,english_score,math_score]\n",
    "corr=[]\n",
    "corrp=[]\n",
    "for i in L:\n",
    "    for j in L:\n",
    "        corr.append(list(sp.pearsonr(i,j))[0])\n",
    "        corrp.append(list(sp.pearsonr(i,j))[1])\n",
    "print('相關係數：\\n國英數\\n',np.reshape(corr,(3,3)))\n",
    "print('P值：\\n國英數\\n',np.reshape(corrp,(3,3)))"
   ]
  },
  {
   "cell_type": "code",
   "execution_count": null,
   "metadata": {},
   "outputs": [],
   "source": []
  }
 ],
 "metadata": {
  "colab": {
   "authorship_tag": "ABX9TyPtywwDR7TsGGEOMGYLDT5h",
   "collapsed_sections": [],
   "name": "作業Hong題目.ipynb",
   "provenance": []
  },
  "kernelspec": {
   "display_name": "Python 3",
   "language": "python",
   "name": "python3"
  },
  "language_info": {
   "codemirror_mode": {
    "name": "ipython",
    "version": 3
   },
   "file_extension": ".py",
   "mimetype": "text/x-python",
   "name": "python",
   "nbconvert_exporter": "python",
   "pygments_lexer": "ipython3",
   "version": "3.8.5"
  }
 },
 "nbformat": 4,
 "nbformat_minor": 1
}
