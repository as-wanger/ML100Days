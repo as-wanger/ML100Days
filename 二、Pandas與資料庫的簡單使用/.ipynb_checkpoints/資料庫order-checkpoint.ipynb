{
 "cells": [
  {
   "cell_type": "markdown",
   "metadata": {},
   "source": [
    "# 資料庫實作"
   ]
  },
  {
   "cell_type": "code",
   "execution_count": 16,
   "metadata": {},
   "outputs": [],
   "source": [
    "import sqlite3"
   ]
  },
  {
   "cell_type": "code",
   "execution_count": 25,
   "metadata": {},
   "outputs": [],
   "source": [
    "#連結資料庫檔案\n",
    "con = sqlite3.connect('myDB.db')#資料庫會自己建立\n",
    "\n",
    "#建立cursor物件\n",
    "c = con.cursor()"
   ]
  },
  {
   "cell_type": "code",
   "execution_count": 26,
   "metadata": {},
   "outputs": [],
   "source": [
    "#建立資料表的查詢指令\n",
    "createStr = 'CREATE TABLE Employeee\\\n",
    "       (ID INT PRIMARY KEY     NOT NULL,\\\n",
    "       NAME           TEXT    NOT NULL,\\\n",
    "       BIRTHYEAR      INT     NOT NULL,\\\n",
    "       ADDRESS        CHAR(50),\\\n",
    "       SALARY         INT);'"
   ]
  },
  {
   "cell_type": "code",
   "execution_count": 27,
   "metadata": {},
   "outputs": [
    {
     "data": {
      "text/plain": [
       "<sqlite3.Cursor at 0x5768570>"
      ]
     },
     "execution_count": 27,
     "metadata": {},
     "output_type": "execute_result"
    }
   ],
   "source": [
    "#執行建立資料表的指令\n",
    "c.execute(createStr)"
   ]
  },
  {
   "cell_type": "code",
   "execution_count": 28,
   "metadata": {},
   "outputs": [
    {
     "data": {
      "text/plain": [
       "<sqlite3.Cursor at 0x5768570>"
      ]
     },
     "execution_count": 28,
     "metadata": {},
     "output_type": "execute_result"
    }
   ],
   "source": [
    "#新增資料至資料表\n",
    "c.execute(\"INSERT INTO Employeee (ID, NAME, BIRTHYEAR, ADDRESS, SALARY) \\\n",
    "      VALUES (1, '小陳', 1997, '新北市', 58000 )\")\n",
    "c.execute(\"INSERT INTO Employeee (ID, NAME, BIRTHYEAR, ADDRESS, SALARY) \\\n",
    "      VALUES (2, '小范', 2000, '臺北市', 50000 )\")\n",
    "c.execute(\"INSERT INTO Employeee (ID, NAME, BIRTHYEAR, ADDRESS, SALARY) \\\n",
    "      VALUES (3, '小施', 1999, '高雄市', 47000 )\")\n",
    "c.execute(\"INSERT INTO Employeee (ID, NAME, BIRTHYEAR, ADDRESS, SALARY) \\\n",
    "      VALUES (4, '小吳', 1998, '台中市', 52000 )\")"
   ]
  },
  {
   "cell_type": "code",
   "execution_count": 29,
   "metadata": {},
   "outputs": [],
   "source": [
    "#確認新增\n",
    "con.commit()"
   ]
  },
  {
   "cell_type": "code",
   "execution_count": 30,
   "metadata": {},
   "outputs": [
    {
     "name": "stdout",
     "output_type": "stream",
     "text": [
      "(1, '小陳', 1997, '新北市', 58000)\n",
      "(2, '小范', 2000, '臺北市', 50000)\n",
      "(3, '小施', 1999, '高雄市', 47000)\n",
      "(4, '小吳', 1998, '台中市', 52000)\n"
     ]
    }
   ],
   "source": [
    "#執行查詢Employee資料表的所有內容\n",
    "cursor = c.execute(\"SELECT * from Employeee\")\n",
    "\n",
    "#檢視查詢結果\n",
    "for record in cursor:\n",
    "    print(record)\n",
    "\n",
    "#關閉與資料庫的連結\n",
    "con.close()"
   ]
  },
  {
   "cell_type": "code",
   "execution_count": 2,
   "metadata": {},
   "outputs": [],
   "source": [
    "import sqlite3\n",
    "import csv\n",
    "\n",
    "#連結資料庫檔案\n",
    "con = sqlite3.connect('myDB5.db')\n",
    "\n",
    "#建立cursor物件\n",
    "c = con.cursor()\n",
    "\n",
    "#建立groups資料表的查詢指令\n",
    "create_groups = 'CREATE TABLE if not exists groupss ( \\\n",
    " group_id int primary key not null, \\\n",
    " group_name char(50) not null \\\n",
    ");'\n",
    "c.execute(create_groups)\n",
    "\n",
    "#建立students資料表的查詢指令\n",
    "create_students = 'CREATE TABLE if not exists studentss ( \\\n",
    " student_id int primary key not null, \\\n",
    " student_name char(50) not null, \\\n",
    " group_id int not null, \\\n",
    " FOREIGN KEY (group_id) REFERENCES groups (group_id) \\\n",
    " ON DELETE NO ACTION ON UPDATE NO ACTION \\\n",
    ");'\n",
    "c.execute(create_students)\n",
    "\n",
    "#為groups資料表新增資料\n",
    "c.execute(\"INSERT INTO groupss (group_id, group_name) VALUES (1, '青色之馬');\")\n",
    "c.execute(\"INSERT INTO groupss (group_id, group_name) VALUES (2, '夢幻之都');\")\n",
    "c.execute(\"INSERT INTO groupss (group_id, group_name) VALUES (3, '新不了城');\")\n",
    "\n",
    "students = []\n",
    "#讀取students.csv中的資料並將其將入students資料表中\n",
    "with open('students.csv', encoding='utf8') as file:\n",
    "    students = list(csv.reader(file, delimiter=','))\n",
    "    for student in students[1:]:\n",
    "        c.execute(\"INSERT INTO studentss (student_id, student_name, group_id) \\\n",
    "          VALUES (%d, '%s', %d);\" % (eval(student[0]), student[1], eval(student[2])))\n",
    "\n",
    "#確認新增\n",
    "con.commit()"
   ]
  },
  {
   "cell_type": "code",
   "execution_count": 6,
   "metadata": {},
   "outputs": [
    {
     "name": "stdout",
     "output_type": "stream",
     "text": [
      "(1, '小明', 2)\n",
      "(2, '小偉', 2)\n",
      "(3, '小聰', 1)\n",
      "(4, '小德', 1)\n",
      "(5, '小希', 3)\n",
      "(6, '小花', 2)\n",
      "(7, '小朱', 2)\n",
      "(8, '小祥', 1)\n",
      "(9, '小盛', 3)\n",
      "(10, '小霖', 3)\n",
      "(11, '小翔', 3)\n",
      "(12, '小華', 1)\n",
      "(13, '小豪', 2)\n",
      "(14, '小哲', 3)\n",
      "(15, '小達', 1)\n"
     ]
    }
   ],
   "source": [
    "#執行查詢Employee資料表的所有內容\n",
    "cursor = c.execute(\"SELECT * from studentss\")\n",
    "\n",
    "#檢視查詢結果\n",
    "for r in cursor:\n",
    "    print(r)"
   ]
  },
  {
   "cell_type": "code",
   "execution_count": 7,
   "metadata": {},
   "outputs": [
    {
     "name": "stdout",
     "output_type": "stream",
     "text": [
      "(1, '青色之馬')\n",
      "(2, '夢幻之都')\n",
      "(3, '新不了城')\n"
     ]
    }
   ],
   "source": [
    "#執行查詢Employee資料表的所有內容\n",
    "cursor = c.execute(\"SELECT * from groupss\")\n",
    "\n",
    "#檢視查詢結果\n",
    "for r in cursor:\n",
    "    print(r)"
   ]
  },
  {
   "cell_type": "code",
   "execution_count": 15,
   "metadata": {},
   "outputs": [
    {
     "name": "stdout",
     "output_type": "stream",
     "text": [
      "(5, '小希', 3, '新不了城')\n",
      "(9, '小盛', 3, '新不了城')\n",
      "(10, '小霖', 3, '新不了城')\n",
      "(11, '小翔', 3, '新不了城')\n",
      "(14, '小哲', 3, '新不了城')\n"
     ]
    }
   ],
   "source": [
    "#執行查詢students資料表中屬於第3組的同學的學號、名字、組號和組名\n",
    "cursor = c.execute(\"SELECT S.*, G.group_name\\\n",
    "                   FROM studentss S, groupss G \\\n",
    "                   WHERE S.group_id = G.group_id \\\n",
    "                   AND S.group_id = 3\")\n",
    "#檢視查詢結果\n",
    "for r in cursor:\n",
    "    print(r)"
   ]
  },
  {
   "cell_type": "code",
   "execution_count": 16,
   "metadata": {},
   "outputs": [
    {
     "name": "stdout",
     "output_type": "stream",
     "text": [
      "(1, '小明', 2, '夢幻之都')\n",
      "(2, '小偉', 2, '夢幻之都')\n",
      "(6, '小花', 2, '夢幻之都')\n",
      "(7, '小朱', 2, '夢幻之都')\n",
      "(13, '小豪', 2, '夢幻之都')\n"
     ]
    }
   ],
   "source": [
    "#執行查詢students資料表中屬於第3組的同學的學號、名字、組號和組名\n",
    "cursor = c.execute(\"SELECT S.*, G.group_name \\\n",
    "                   FROM studentss S, groupss G \\\n",
    "                   WHERE S.group_id = G.group_id \\\n",
    "                   AND S.group_id = 2\")\n",
    "\n",
    "#檢視查詢結果\n",
    "for record in cursor:\n",
    "    print(record)\n",
    "\n",
    "#關閉與資料庫的連結\n",
    "con.close()"
   ]
  }
 ],
 "metadata": {
  "kernelspec": {
   "display_name": "Python 3",
   "language": "python",
   "name": "python3"
  },
  "language_info": {
   "codemirror_mode": {
    "name": "ipython",
    "version": 3
   },
   "file_extension": ".py",
   "mimetype": "text/x-python",
   "name": "python",
   "nbconvert_exporter": "python",
   "pygments_lexer": "ipython3",
   "version": "3.8.5"
  }
 },
 "nbformat": 4,
 "nbformat_minor": 4
}
