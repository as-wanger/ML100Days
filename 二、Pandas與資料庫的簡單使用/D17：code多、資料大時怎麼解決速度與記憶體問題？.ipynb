{
 "cells": [
  {
   "cell_type": "markdown",
   "metadata": {},
   "source": [
    "### 1. 在速度較慢的時候，可以先從哪邊開始檢查？\n",
    "1 . 資料讀取的格式，在 pd.read_X 時，X(讀取時間)：xlsx>>>csv>hdf>pkl <br>\n",
    "2 . 資料運算函式的速度，如groupby().agg() > transform\n",
    "### 2. 資料過⼤時應採取什麼⽅式讓記憶體占⽤量下降？\n",
    "降低資料型態，如X.apply(pd.to_numeric, downcast=\"unsigned\")"
   ]
  }
 ],
 "metadata": {
  "kernelspec": {
   "display_name": "Python 3",
   "language": "python",
   "name": "python3"
  },
  "language_info": {
   "codemirror_mode": {
    "name": "ipython",
    "version": 3
   },
   "file_extension": ".py",
   "mimetype": "text/x-python",
   "name": "python",
   "nbconvert_exporter": "python",
   "pygments_lexer": "ipython3",
   "version": "3.8.5"
  }
 },
 "nbformat": 4,
 "nbformat_minor": 4
}
