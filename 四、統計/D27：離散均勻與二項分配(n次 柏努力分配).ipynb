{
 "cells": [
  {
   "cell_type": "markdown",
   "metadata": {},
   "source": [
    "## 作業:\n",
    "今天學到2種分配，包含，   \n",
    "離散均勻分配( Discrete Uniform Distribution )   \n",
    "伯努利分配( Bernoulli Distribution )   \n",
    "\n",
    "今天我們透過作業中的問題，回想今天的內容吧!  "
   ]
  },
  {
   "cell_type": "code",
   "execution_count": null,
   "metadata": {},
   "outputs": [],
   "source": [
    "#離散均勻分配（randint）\n",
    "\n",
    "#low=1; high=7 ;r = np.arange(low,high)或是[1,2,3,4,5,6]\n",
    "\n",
    "# 機率質量函數：stats.randint.pmf(r,low,high)，每項機率的\"占比\"，p0+...+pn = 1\n",
    "# 累積機率函數：stats.randint.cdf(r,low,high)，機率累加的\"占比\"，p0+...+pn = 1\n",
    "# 如果 a = stats.randint.cdf(r,low,high)； k = stats.randint.ppf(a , low, high)時，k=r，但詳細點則應該是\n",
    "# k = np.arange(randint.ppf(0.01, low, high),randint.ppf(0.99, low, high))時，k=r\n",
    "#樣本點：X = stats.randint.rvs(low,high,size)，隨機出現所有屬於r的次數，size是總次數，使用plt.hist(X,bins);plt.show()可顯示其圖型 \n",
    "#統計量計算：stats.randint.stats(low,high,moments='mvks')呈現該數值的平均數、變異數；moments='mvks'再加上偏度和峰度\n",
    "\n",
    "#伯努利分配（bernoulli）\n",
    "#p = 0.4; r=np.arange(0,2)或[0,1]\n",
    "#stats.bernoulli.pmf(r,p)，兩個bin的機率\n",
    "#b = stats.bernoulli.cdf(r,p)，一樣累加=1； k = stats.randint.ppf(b , p)時，k=r\n",
    "#X = stats.bernoulli.rvs(p,size)，兩個bin的次數，size是總次數，使用plt.hist(X,bins)\n",
    "#stats.bernoulli.stats(r,p,moments='mvks')，隨機變數的平均數、變異數、偏度和峰度。\n",
    "\n",
    "#二項分配（binom）\n",
    "#p=0.5; n=重複次數; r=出現次數\n",
    "#stats.binom.pmf(r,n,p)，各個箱子的機率，類常態分佈\n",
    "#c = stats.binom.cdf(r,n,p)，一樣累加=1； k = stats.randint.ppf(c ,n ,p)時，k=r\n",
    "#stats.binom.rvs(n,p,size)，r個bin的次數，size是總次數\n",
    "#stats.binom.stats(r,p,moments='mvks')，固定參數的平均數（即期望值）、變異數、偏度和峰度。"
   ]
  },
  {
   "cell_type": "markdown",
   "metadata": {},
   "source": [
    "### 丟一個銅板，丟了100次，出現正面 50 次的機率有多大。\n",
    "(提示: 先想是哪一種分配，然後透過 python 語法進行計算)\n"
   ]
  },
  {
   "cell_type": "code",
   "execution_count": 87,
   "metadata": {},
   "outputs": [
    {
     "name": "stdout",
     "output_type": "stream",
     "text": [
      "0.07958923738717888\n"
     ]
    }
   ],
   "source": [
    "from scipy import stats\n",
    "import numpy as np\n",
    "#二項分配\n",
    "p=0.5; n=100; r=50\n",
    "probs = stats.binom.pmf(r,n,p) # = p**n*(n!/ (r!*(n-r)!))\n",
    "print(probs)"
   ]
  },
  {
   "cell_type": "code",
   "execution_count": 116,
   "metadata": {},
   "outputs": [
    {
     "name": "stdout",
     "output_type": "stream",
     "text": [
      "0.5397946186935751\n"
     ]
    },
    {
     "data": {
      "text/plain": [
       "<BarContainer object of 51 artists>"
      ]
     },
     "execution_count": 116,
     "metadata": {},
     "output_type": "execute_result"
    },
    {
     "data": {
      "image/png": "[encoded data removed]",
      "text/plain": [
       "<Figure size 432x288 with 1 Axes>"
      ]
     },
     "metadata": {
      "needs_background": "light"
     },
     "output_type": "display_data"
    }
   ],
   "source": [
    "#延伸：正面 50 次以內的機率\n",
    "p=0.5; n=100; r=np.arange(0,51)\n",
    "probs = stats.binom.pmf(r, n, p).sum()\n",
    "print(probs)\n",
    "plt.bar(r, probs)"
   ]
  }
 ],
 "metadata": {
  "colab": {
   "name": "Day33.YOLO 細節理解 - 網路輸出的後處理_HW.ipynb",
   "provenance": []
  },
  "kernelspec": {
   "display_name": "Python 3",
   "language": "python",
   "name": "python3"
  },
  "language_info": {
   "codemirror_mode": {
    "name": "ipython",
    "version": 3
   },
   "file_extension": ".py",
   "mimetype": "text/x-python",
   "name": "python",
   "nbconvert_exporter": "python",
   "pygments_lexer": "ipython3",
   "version": "3.8.5"
  }
 },
 "nbformat": 4,
 "nbformat_minor": 1
}
