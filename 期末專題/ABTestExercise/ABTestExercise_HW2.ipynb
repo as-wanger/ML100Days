{
 "cells": [
  {
   "cell_type": "markdown",
   "metadata": {
    "id": "RTnv32wkA_Ox"
   },
   "source": [
    "# **作業說明**\n",
    "# (這是Udacity關於A/B Test的期末專題)\n",
    "\n",
    "Udacity希望了解，在免費14天試學網頁上，除了要信用卡資訊外，還想了解學生願意花多少小時學。如果少於某門檻(5小時)，就建議學生不要註冊，免費聽聽影音就好，免得浪費資源，降低學習成功率。\n",
    "\n",
    "我們的題目是，增加這個頁面，是否對Gross Conversion(GC)和Net Conversion (NC)在統計學上(Alpha=0.05，Power=0.8)有幫助(d=0.01/0.0075)，亦即統計上的顯著(Significant)。\n",
    "\n",
    "CI = click 數目\n",
    "\n",
    "GC = 註冊數/CI (聽了建議仍然註冊的比例)\n",
    "\n",
    "NC = 繳費數/CI (14天之後繳費且繼續的比例)\n",
    "\n",
    "我們期待GC比原來下降，但NC不降，這表示省去資源但收入不降。\n",
    "\n",
    "檔名：ab-tests-with-python.ipynb\n",
    "\n",
    "**作業目標**\n",
    "\n",
    "1.   經由範例程式，學習A/B Test 的步驟\n",
    "2.   最低樣本數的計算方法\n",
    "3.   自行開發信賴區間計算函數\n",
    "\n",
    "\n",
    "\n",
    "\n",
    "\n",
    "\n",
    "\n",
    "\n",
    "\n",
    "\n",
    "\n"
   ]
  },
  {
   "cell_type": "code",
   "execution_count": 3,
   "metadata": {
    "_cell_guid": "9a04b6ea-111a-4627-849f-53adf7efd40b",
    "_uuid": "f4949401e2dab760c957525f17e90addf45fc9e8",
    "id": "QfCMcrfTFyMx"
   },
   "outputs": [],
   "source": [
    "#載入程式庫\n",
    "import math as mt\n",
    "import numpy as np\n",
    "import pandas as pd\n",
    "from scipy.stats import norm"
   ]
  },
  {
   "cell_type": "code",
   "execution_count": 32,
   "metadata": {
    "_cell_guid": "fc93fbb9-b9f0-4b51-8dad-c4a8ee7b4320",
    "_uuid": "a3b1eab0da4bf7262ff7d98a41bed840d835762a",
    "id": "_iZnYjxIFyMy"
   },
   "outputs": [],
   "source": [
    "#推算值：                 /      NConversion      \\\n",
    "#邏輯架構：進入    →    點擊    →    註冊    →    付費\n",
    "#推算值：     \\  CTP   / \\GConversion/ \\ Retention /\n",
    "\n",
    "# 將基礎數據放入字典\n",
    "# Cookies(進入數，人次)、Clicks(點擊數)、Enrollments(註冊數)\n",
    "# CTP(點擊數/Cookies)、G轉化率(註冊數/點擊數)\n",
    "# N轉化率(付費/點擊數)、滯留數(付費/註冊數)\n",
    "baseline = {\"Cookies\":40000,\"Clicks\":3200,\"Enrollments\":660,\n",
    "            \"CTP\":0.08,\"GConversion\":0.20625,\n",
    "           \"NConversion\":0.109313,\"Retention\":0.53}"
   ]
  },
  {
   "cell_type": "code",
   "execution_count": 33,
   "metadata": {
    "_cell_guid": "d99f7ee0-4a65-402b-a709-a949cd549bc3",
    "_uuid": "019536837b5aa146997b693563cfb22af1fb85ee",
    "colab": {
     "base_uri": "https://localhost:8080/"
    },
    "id": "rE-idI4vFyMy",
    "outputId": "af885825-24d4-4e2b-c7ca-5a7e98ff6182"
   },
   "outputs": [
    {
     "data": {
      "text/plain": [
       "{'Cookies': 5000,\n",
       " 'Clicks': 400.0,\n",
       " 'Enrollments': 82.5,\n",
       " 'CTP': 0.08,\n",
       " 'GConversion': 0.20625,\n",
       " 'NConversion': 0.109313,\n",
       " 'Retention': 0.53}"
      ]
     },
     "execution_count": 33,
     "metadata": {},
     "output_type": "execute_result"
    }
   ],
   "source": [
    "#調整大小到以Cookie為基準\n",
    "baseline[\"Cookies\"] = 5000\n",
    "baseline[\"Clicks\"]=baseline[\"Clicks\"]*(5000/40000)\n",
    "baseline[\"Enrollments\"]=baseline[\"Enrollments\"]*(5000/40000)\n",
    "baseline"
   ]
  },
  {
   "cell_type": "code",
   "execution_count": 34,
   "metadata": {
    "_cell_guid": "4c47c350-99c8-4990-8456-cbbe014a972f",
    "_uuid": "2c6930584c39024455900fce7e0e92e5812814b3",
    "colab": {
     "base_uri": "https://localhost:8080/"
    },
    "id": "gNpNShHKFyMz",
    "outputId": "6e1110d0-f002-45a1-9711-6c8c094cd641"
   },
   "outputs": [
    {
     "data": {
      "text/plain": [
       "{'d_min': 0.01, 'p': 0.20625, 'n': 400.0, 'sd': 0.0202, 'test': 0.0202}"
      ]
     },
     "execution_count": 34,
     "metadata": {},
     "output_type": "execute_result"
    }
   ],
   "source": [
    "# 算出 Gross Conversion (GC) 的 p、n和Standard Deviation(sd) rounded to 4 decimal digits.，d_min為業績上的最小變化\n",
    "# 沒有使用pd.Series 或 pd.DataFrame，則也可以用dict不指定key來含括\n",
    "GC={}\n",
    "GC[\"d_min\"]=0.01\n",
    "GC[\"p\"]=baseline[\"GConversion\"]\n",
    "GC[\"n\"]=baseline[\"Clicks\"]\n",
    "#二項分配（binom）的抽樣，注意會除n\n",
    "#p = 某值; n = 重複次數; q = 1-p; 變異數 = pq/n\n",
    "#此處標準差為standard error of the proportion 所以又稱se\n",
    "GC[\"sd\"]=round(mt.sqrt((GC[\"p\"]*(1-GC[\"p\"]))/GC[\"n\"]),4)\n",
    "#當然開根號也可以**0.5，\n",
    "#或是**(2**-1)，表示方式會對數較接近\n",
    "GC[\"test\"]=round((GC[\"p\"]*(1-GC[\"p\"])/GC[\"n\"])**0.5,4)\n",
    "GC"
   ]
  },
  {
   "cell_type": "code",
   "execution_count": 35,
   "metadata": {
    "_cell_guid": "654d08d4-6638-4f9f-a327-6f2f5a6a9365",
    "_uuid": "334e65cddd5a800a396fa630b676ca12bec42114",
    "colab": {
     "base_uri": "https://localhost:8080/"
    },
    "id": "w_WjAIKkFyMz",
    "outputId": "9cf4445e-d65d-408f-9798-d78480730dcd"
   },
   "outputs": [
    {
     "data": {
      "text/plain": [
       "{'d_min': 0.01, 'p': 0.53, 'n': 82.5, 'sd': 0.0549}"
      ]
     },
     "execution_count": 35,
     "metadata": {},
     "output_type": "execute_result"
    }
   ],
   "source": [
    "# Retention(R) \n",
    "\n",
    "R={}\n",
    "R[\"d_min\"]=0.01\n",
    "R[\"p\"]=baseline[\"Retention\"]\n",
    "R[\"n\"]=baseline[\"Enrollments\"]\n",
    "R[\"sd\"]=round(((R[\"p\"]*(1-R[\"p\"]))/R[\"n\"])**0.5,4)\n",
    "R"
   ]
  },
  {
   "cell_type": "code",
   "execution_count": 36,
   "metadata": {
    "_cell_guid": "162f3d90-467a-41e6-9489-f1ea01f08afa",
    "_uuid": "be4b9c808cf098efde59ea1d17e1a35799873e5f",
    "colab": {
     "base_uri": "https://localhost:8080/"
    },
    "id": "kwx3Of06FyMz",
    "outputId": "efac36b1-ec20-4159-d113-fc43c81aa9f0"
   },
   "outputs": [
    {
     "data": {
      "text/plain": [
       "{'d_min': 0.0075, 'p': 0.109313, 'n': 400.0, 'sd': 0.0156}"
      ]
     },
     "execution_count": 36,
     "metadata": {},
     "output_type": "execute_result"
    }
   ],
   "source": [
    "# Net Conversion (NC)\n",
    "NC={}\n",
    "NC[\"d_min\"]=0.0075\n",
    "NC[\"p\"]=baseline[\"NConversion\"]\n",
    "NC[\"n\"]=baseline[\"Clicks\"]\n",
    "NC[\"sd\"]=round(((NC[\"p\"]*(1-NC[\"p\"]))/NC[\"n\"])**0.5,4)\n",
    "NC"
   ]
  },
  {
   "cell_type": "code",
   "execution_count": 38,
   "metadata": {
    "_cell_guid": "230d398f-5692-4f04-a8a9-316c9c661801",
    "_uuid": "c1c7a715d55432c5d19fef049094527cf1f72343",
    "id": "mB2im4rcFyM0"
   },
   "outputs": [],
   "source": [
    "#計算 Z-score，以百分點函數獲得該機率(probability)對應的z值(norm為常態分佈)\n",
    "def get_z_score(alpha):\n",
    "    return norm.ppf(alpha)\n",
    "\n",
    "# 得到兩個(A/B)標準差\n",
    "def get_sds(p,d):\n",
    "    sd1=mt.sqrt(2*p*(1-p))\n",
    "    sd2=mt.sqrt(p*(1-p)+(p+d)*(1-(p+d)))\n",
    "    sds=[sd1,sd2]\n",
    "    return sds\n",
    "\n",
    "# 求Sample Size，不過有個奇怪的假設是，虛無假設H0：Pcont = Pexp 沒問題，對立假設以對照會比試驗組(處理組)較好進行假設\n",
    "# Pcont - Pexp = d，其中d是detectable effect。一般會認為新制要抗衡舊制必須要提出較佳解方可取代，不過也不會影響結果(僅影響正負值)\n",
    "# 往下，根據公式(依據假設的前提，為單尾，alpha要除二)\n",
    "def get_sampSize(sds,alpha,beta,d):\n",
    "    n=pow((get_z_score(1-alpha/2)*sds[0]+get_z_score(1-beta)*sds[1]),2)/pow(d,2)\n",
    "    return n"
   ]
  },
  {
   "cell_type": "code",
   "execution_count": 39,
   "metadata": {
    "_cell_guid": "e9b0d74a-35ba-461e-9b04-7527cc0147f9",
    "_uuid": "f44e06b60b027dd83ec3734c52ed1347d2a80c0c",
    "id": "uFh5tlyTFyM0"
   },
   "outputs": [],
   "source": [
    "GC[\"d\"]=0.01\n",
    "R[\"d\"]=0.01\n",
    "NC[\"d\"]=0.0075"
   ]
  },
  {
   "cell_type": "code",
   "execution_count": 40,
   "metadata": {
    "_cell_guid": "28cf1802-c0ce-4189-b438-86504e53a721",
    "_uuid": "b443cb437954e04ef889ef4b365d8875da2833d1",
    "colab": {
     "base_uri": "https://localhost:8080/"
    },
    "id": "fiOPWnzNFyM0",
    "outputId": "f709237b-5edc-40e8-96e4-5002bd4dc503"
   },
   "outputs": [
    {
     "data": {
      "text/plain": [
       "25835"
      ]
     },
     "execution_count": 40,
     "metadata": {},
     "output_type": "execute_result"
    }
   ],
   "source": [
    "# Let's get an integer value for simplicity, round()\n",
    "GC[\"SampSize\"]=round(get_sampSize(get_sds(GC[\"p\"],GC[\"d\"]),0.05,0.2,GC[\"d\"]))\n",
    "GC[\"SampSize\"]"
   ]
  },
  {
   "cell_type": "code",
   "execution_count": 41,
   "metadata": {
    "_cell_guid": "ba7702c9-b092-404b-a212-8713a517d9bc",
    "_uuid": "530c3e906980568677ce0a7fc5c92f5f9a26302b",
    "colab": {
     "base_uri": "https://localhost:8080/"
    },
    "id": "X7vCHRGDFyM0",
    "outputId": "f7f50a7f-aa8d-4ed9-b90c-ba1d31415a6f"
   },
   "outputs": [
    {
     "data": {
      "text/plain": [
       "645875"
      ]
     },
     "execution_count": 41,
     "metadata": {},
     "output_type": "execute_result"
    }
   ],
   "source": [
    "#CTP = 0.08\n",
    "GC[\"SampSize\"]=round(GC[\"SampSize\"]/baseline[\"CTP\"]*2)\n",
    "GC[\"SampSize\"]"
   ]
  },
  {
   "cell_type": "code",
   "execution_count": 42,
   "metadata": {
    "_cell_guid": "c2c65956-f449-4d28-94b5-c5300aeadb4b",
    "_uuid": "1aa61cc37f8839a44f0773623d41c3684be1a9c7",
    "colab": {
     "base_uri": "https://localhost:8080/"
    },
    "id": "z3jx0jgiFyM0",
    "outputId": "d2dba5cc-bf64-4177-9a95-6b8ebdd44674"
   },
   "outputs": [
    {
     "data": {
      "text/plain": [
       "39087"
      ]
     },
     "execution_count": 42,
     "metadata": {},
     "output_type": "execute_result"
    }
   ],
   "source": [
    "# Getting a integer value\n",
    "R[\"SampSize\"]=round(get_sampSize(get_sds(R[\"p\"],R[\"d\"]),0.05,0.2,R[\"d\"]))\n",
    "R[\"SampSize\"]"
   ]
  },
  {
   "cell_type": "code",
   "execution_count": 43,
   "metadata": {
    "_cell_guid": "0281b321-7506-49ba-a33e-29eed30eefbe",
    "_uuid": "16bf69e2a0f6214b91485b736676a1fe7aadfdca",
    "colab": {
     "base_uri": "https://localhost:8080/"
    },
    "id": "Zc1NFMp3FyM0",
    "outputId": "5ca978b8-4eac-4589-9481-b634e2c259d5"
   },
   "outputs": [
    {
     "data": {
      "text/plain": [
       "4737818.181818182"
      ]
     },
     "execution_count": 43,
     "metadata": {},
     "output_type": "execute_result"
    }
   ],
   "source": [
    "# GConversion = 0.20625\n",
    "R[\"SampSize\"]=R[\"SampSize\"]/baseline[\"CTP\"]/baseline[\"GConversion\"]*2\n",
    "R[\"SampSize\"]"
   ]
  },
  {
   "cell_type": "code",
   "execution_count": 44,
   "metadata": {
    "_cell_guid": "56be284a-1c49-4c65-91d2-e007ae5b327d",
    "_uuid": "42607629817a83c2be769165cff7a30d74067320",
    "colab": {
     "base_uri": "https://localhost:8080/"
    },
    "id": "XqkTq_D-FyM0",
    "outputId": "ce8f9a0b-eaf3-4ded-d383-a47df31c799d"
   },
   "outputs": [
    {
     "data": {
      "text/plain": [
       "27413"
      ]
     },
     "execution_count": 44,
     "metadata": {},
     "output_type": "execute_result"
    }
   ],
   "source": [
    "# Getting a integer value\n",
    "NC[\"SampSize\"]=round(get_sampSize(get_sds(NC[\"p\"],NC[\"d\"]),0.05,0.2,NC[\"d\"]))\n",
    "NC[\"SampSize\"]"
   ]
  },
  {
   "cell_type": "code",
   "execution_count": 45,
   "metadata": {
    "_cell_guid": "e4202dd9-7cb6-455c-9630-dd9277f84da6",
    "_uuid": "38b580f63f9e25fa7e19958d7b12a14d6e2b8838",
    "colab": {
     "base_uri": "https://localhost:8080/"
    },
    "id": "UGArSr5lFyM0",
    "outputId": "0d53c8f8-e382-406e-9aeb-e2bdc9929a27"
   },
   "outputs": [
    {
     "data": {
      "text/plain": [
       "685325.0"
      ]
     },
     "execution_count": 45,
     "metadata": {},
     "output_type": "execute_result"
    }
   ],
   "source": [
    "NC[\"SampSize\"]=NC[\"SampSize\"]/baseline[\"CTP\"]*2\n",
    "NC[\"SampSize\"]"
   ]
  },
  {
   "cell_type": "code",
   "execution_count": 199,
   "metadata": {
    "_cell_guid": "58b7a728-3b45-4867-969b-48959085498c",
    "_uuid": "4c29c3bce964e643ef30633cab8b95f268f76abc",
    "colab": {
     "base_uri": "https://localhost:8080/",
     "height": 198
    },
    "id": "Oj_s62oaFyM1",
    "outputId": "ba245606-e0ee-4721-f510-189477941b0d"
   },
   "outputs": [],
   "source": [
    "# 載入數據\n",
    "control=pd.read_csv(\"control_data.csv\")\n",
    "experiment=pd.read_csv(\"experiment_data.csv\")\n",
    "# display(control.head())\n",
    "# display(experiment.head())"
   ]
  },
  {
   "cell_type": "code",
   "execution_count": 47,
   "metadata": {
    "_cell_guid": "37ab672f-be1c-46bc-ae53-edf722bef4bc",
    "_uuid": "15652351bc793b528ca853666ddb4b7defe4f4ff",
    "colab": {
     "base_uri": "https://localhost:8080/"
    },
    "id": "c2AH9yHaFyM1",
    "outputId": "c534d6e1-a872-4fab-ecf3-95cc10d411d4"
   },
   "outputs": [
    {
     "name": "stdout",
     "output_type": "stream",
     "text": [
      "number of pageviews in control: 345543\n",
      "number of Pageviewsin experiment: 344660\n"
     ]
    }
   ],
   "source": [
    "pageviews_cont=control['Pageviews'].sum()\n",
    "pageviews_exp=experiment['Pageviews'].sum()\n",
    "pageviews_total=pageviews_cont+pageviews_exp\n",
    "print (\"number of pageviews in control:\", pageviews_cont)\n",
    "print (\"number of Pageviewsin experiment:\" ,pageviews_exp)"
   ]
  },
  {
   "cell_type": "code",
   "execution_count": 8,
   "metadata": {
    "_cell_guid": "8e13eba4-0daa-4220-a772-e1f371854d60",
    "_uuid": "6d4d94df9e5afdfdf97703292b0ef9ac6c3e4251",
    "id": "kxKPjYuWFyM1"
   },
   "outputs": [
    {
     "data": {
      "text/plain": [
       "17293"
      ]
     },
     "execution_count": 8,
     "metadata": {},
     "output_type": "execute_result"
    }
   ],
   "source": [
    "# Count the total clicks from complete records only\n",
    "# 想根據Enrollments排點擊數，但是Enrollments下面有NAN，需要notsull()\n",
    "clicks_cont=control[\"Clicks\"].loc[control[\"Enrollments\"].notnull()].sum()\n",
    "clicks_exp=experiment[\"Clicks\"].loc[experiment[\"Enrollments\"].notnull()].sum()\n",
    "clicks_cont"
   ]
  },
  {
   "cell_type": "code",
   "execution_count": 49,
   "metadata": {
    "_cell_guid": "5615673e-529c-452a-ad48-9186cb88f74b",
    "_uuid": "3f17a8086726ee8cc01f150808f88fe8693a95a2",
    "colab": {
     "base_uri": "https://localhost:8080/"
    },
    "id": "I4gtEo6LFyM1",
    "outputId": "6b952d56-de9a-472f-f6ce-bf2cc0ccd9ae"
   },
   "outputs": [
    {
     "name": "stdout",
     "output_type": "stream",
     "text": [
      "The change due to the experiment is -2.06 %\n",
      "Confidence Interval: [ -0.0235 , -0.0177 ]\n",
      "The change is statistically significant if the CI doesn't include 0. In that case, it is practically significant if -0.01 is not in the CI as well.\n"
     ]
    }
   ],
   "source": [
    "#Gross Conversion - number of enrollments divided by number of clicks\n",
    "enrollments_cont=control[\"Enrollments\"].sum()\n",
    "enrollments_exp=experiment[\"Enrollments\"].sum()\n",
    "\n",
    "GC_cont=enrollments_cont/clicks_cont\n",
    "GC_exp=enrollments_exp/clicks_exp\n",
    "GC_pooled=(enrollments_cont+enrollments_exp)/(clicks_cont+clicks_exp)\n",
    "GC_sd_pooled=mt.sqrt(GC_pooled*(1-GC_pooled)*(1/clicks_cont+1/clicks_exp))\n",
    "GC_ME=round(get_z_score(1-alpha/2)*GC_sd_pooled,4)\n",
    "GC_diff=round(GC_exp-GC_cont,4)\n",
    "print(\"The change due to the experiment is\",GC_diff*100,\"%\")\n",
    "print(\"Confidence Interval: [\",GC_diff-GC_ME,\",\",GC_diff+GC_ME,\"]\")\n",
    "print (\"The change is statistically significant if the CI doesn't include 0. In that case, it is practically significant if\",-GC[\"d_min\"],\"is not in the CI as well.\")"
   ]
  },
  {
   "cell_type": "code",
   "execution_count": 50,
   "metadata": {
    "_cell_guid": "8cb352ad-fc92-4f21-b939-3874314ba8f4",
    "_uuid": "83e99af5dea50f22629ccbd34faa196d4065172f",
    "colab": {
     "base_uri": "https://localhost:8080/"
    },
    "id": "MQIg2XBsFyM1",
    "outputId": "f8f7bb99-0194-4884-dc39-acf4fb962b40"
   },
   "outputs": [
    {
     "name": "stdout",
     "output_type": "stream",
     "text": [
      "The change due to the experiment is -0.49 %\n",
      "Confidence Interval: [ -0.0072 , -0.0026 ]\n",
      "The change is statistically significant if the CI doesn't include 0. In that case, it is practically significant if 0.0075 is not in the CI as well.\n"
     ]
    }
   ],
   "source": [
    "#Net Conversion - number of payments divided by number of clicks\n",
    "payments_cont=control[\"Payments\"].sum()\n",
    "payments_exp=experiment[\"Payments\"].sum()\n",
    "\n",
    "NC_cont=payments_cont/clicks_cont\n",
    "NC_exp=payments_exp/clicks_exp\n",
    "NC_pooled=(payments_cont+payments_exp)/(clicks_cont+clicks_exp)\n",
    "NC_sd_pooled=mt.sqrt(NC_pooled*(1-NC_pooled)*(1/clicks_cont+1/clicks_exp))\n",
    "NC_ME=round(get_z_score(1-alpha/2)*NC_sd_pooled,4)\n",
    "NC_diff=round(NC_exp-NC_cont,4)\n",
    "print(\"The change due to the experiment is\",NC_diff*100,\"%\")\n",
    "print(\"Confidence Interval: [\",NC_diff-NC_ME,\",\",NC_diff+NC_ME,\"]\")\n",
    "print (\"The change is statistically significant if the CI doesn't include 0. In that case, it is practically significant if\",NC[\"d_min\"],\"is not in the CI as well.\")"
   ]
  },
  {
   "cell_type": "markdown",
   "metadata": {
    "id": "K2hnLtKrFS75"
   },
   "source": [
    "# **作業**\n",
    "# 經由範例程式碼，熟悉A/B Test的步驟\n",
    "\n",
    "請同學逐步跟隨程式了解A/B Test步驟"
   ]
  },
  {
   "cell_type": "code",
   "execution_count": null,
   "metadata": {},
   "outputs": [],
   "source": [
    "import numpy as np\n",
    "import pandas as pd\n",
    "import scipy.stats as stats\n",
    "import statsmodels.stats.api as sms\n",
    "import matplotlib.pyplot as plt\n",
    "import seaborn as sns\n",
    "import math as mt"
   ]
  },
  {
   "cell_type": "code",
   "execution_count": 162,
   "metadata": {},
   "outputs": [
    {
     "name": "stdout",
     "output_type": "stream",
     "text": [
      "pageviews_cont: 345543 \n",
      "pageviews_exp: 344660 \n",
      "clicks_cont: 28378 \n",
      "clicks_exp: 28325 \n",
      "enrollments_cont: 3785.0 \n",
      "enrollments_exp: 3423.0 \n",
      "payments_cont: 2033.0 \n",
      "payments_exp: 1945.0\n"
     ]
    }
   ],
   "source": [
    "# 建立函數\n",
    "def z_value(alpha):\n",
    "    return norm.ppf(alpha)\n",
    "\n",
    "control=pd.read_csv(\"control_data.csv\")\n",
    "experiment=pd.read_csv(\"experiment_data.csv\")\n",
    "#Column包含Date、Pageviews、Clicks、Enrollments(有缺)、Payments(有缺)\n",
    "\n",
    "#先蒐集測量值加總\n",
    "pageviews_cont = control['Pageviews'].sum()\n",
    "pageviews_exp = experiment['Pageviews'].sum()\n",
    "clicks_cont = control['Clicks'].sum()\n",
    "clicks_exp = experiment['Clicks'].sum()\n",
    "enrollments_cont = control['Enrollments'].sum()\n",
    "enrollments_exp = experiment['Enrollments'].sum()\n",
    "payments_cont = control['Payments'].sum()\n",
    "payments_exp = experiment['Payments'].sum()\n",
    "\n",
    "print(\"pageviews_cont:\",f'{pageviews_cont}',\n",
    "      \"\\npageviews_exp:\",f'{pageviews_exp}',\n",
    "      \"\\nclicks_cont:\",f'{clicks_cont}',\n",
    "      \"\\nclicks_exp:\",f'{clicks_exp}',\n",
    "      \"\\nenrollments_cont:\",f'{enrollments_cont}',\n",
    "      \"\\nenrollments_exp:\",f'{enrollments_exp}',\n",
    "      \"\\npayments_cont:\",f'{payments_cont}',\n",
    "      \"\\npayments_exp:\",f'{payments_exp}',)"
   ]
  },
  {
   "cell_type": "markdown",
   "metadata": {},
   "source": [
    "一、實驗組樣本數稍微多對照組一些但相當接近，但可試著驗證"
   ]
  },
  {
   "cell_type": "code",
   "execution_count": 180,
   "metadata": {},
   "outputs": [
    {
     "name": "stdout",
     "output_type": "stream",
     "text": [
      "pageviews: 0.5006 有在信賴區間 0.4988 與 0.5012 的範圍內？\n",
      "clicks: 0.5005 有在信賴區間 0.4959 與 0.5041 的範圍內？\n"
     ]
    }
   ],
   "source": [
    "# 驗證：\n",
    "p = 0.5\n",
    "alpha = 0.05\n",
    "pageviews_total = pageviews_cont + pageviews_exp\n",
    "p_ture = round(pageviews_cont/(pageviews_total),4)\n",
    "sd = ( p*(1-p)/(pageviews_total) )**0.5\n",
    "#加減標準常態sd*sd(從常態變成試算視角)\n",
    "ME = round(z_value(1-(alpha/2))*sd,4)\n",
    "#信賴區間\n",
    "print (\"pageviews:\",p_ture,\"有在信賴區間\",p-ME,\"與\",p+ME,\"的範圍內？\")\n",
    "\n",
    "p = 0.5\n",
    "alpha = 0.05\n",
    "clicks_total = clicks_cont + clicks_exp\n",
    "p_ture2 = round(clicks_cont/(clicks_total),4)\n",
    "sd2 = ( p*(1-p)/(clicks_total) )**0.5\n",
    "ME2 = round(z_value(1-(alpha/2))*sd2,4)\n",
    "print (\"clicks:\",p_ture2,\"有在信賴區間\",p-ME2,\"與\",p+ME2,\"的範圍內？\")"
   ]
  },
  {
   "cell_type": "markdown",
   "metadata": {},
   "source": [
    "都有符合，樣本數可認為沒有差異(對半分)"
   ]
  },
  {
   "cell_type": "code",
   "execution_count": 145,
   "metadata": {},
   "outputs": [],
   "source": [
    "# 推算變數GC、NC、R\n",
    "# 推算值：                 /      NConversion      \\\n",
    "# 邏輯架構：進入    →    點擊    →    註冊    →    付費\n",
    "# 推算值：     \\  CTP   / \\GConversion/ \\ Retention /\n",
    "\n",
    "# pool機率：進行pool : p_pool = (X1+X2) / (N1+N2)\n",
    "\n",
    "CTP_cont = clicks_cont/pageviews_cont\n",
    "CTP_exp = clicks_exp/pageviews_exp\n",
    "CTP_pooled = (clicks_cont + clicks_exp)/(pageviews_cont + pageviews_exp)"
   ]
  },
  {
   "cell_type": "code",
   "execution_count": 146,
   "metadata": {},
   "outputs": [
    {
     "name": "stdout",
     "output_type": "stream",
     "text": [
      "CTP_diff: 0.0001 有在信賴區間 -0.0013 與 0.0013 的範圍內？\n"
     ]
    }
   ],
   "source": [
    "# 再驗證CTP、GC、NC、R作為推算變數，是否有新特徵(或是說結果有所不同)\n",
    "alpha = 0.05\n",
    "CTP_diff = round((CTP_exp - CTP_cont),4)\n",
    "sd_pooled = ( CTP_pooled*(1-CTP_pooled)*(1/pageviews_cont+1/pageviews_exp) )**0.5\n",
    "ME = round(z_value(1-(alpha/2))*sd_pooled,4)\n",
    "print (\"CTP_diff:\",CTP_diff,\"有在信賴區間\",0-ME,\"與\",0+ME,\"的範圍內？\")"
   ]
  },
  {
   "cell_type": "code",
   "execution_count": 147,
   "metadata": {},
   "outputs": [
    {
     "name": "stdout",
     "output_type": "stream",
     "text": [
      "GC_diff: -0.0206 而 -0.0292 與 -0.012 有包含零？\n",
      "NC_diff: -0.0049 而 -0.0116 與 0.0018000000000000004 有包含零？\n",
      "R_diff: 0.0311 而 0.0081 與 0.054099999999999995 有包含零？\n"
     ]
    }
   ],
   "source": [
    "#去除缺失值，Enrollments與payments不影響，僅需去除clicks的部分\n",
    "clicks_cont=control[\"Clicks\"].loc[control[\"Enrollments\"].notnull()].sum()\n",
    "clicks_exp=experiment[\"Clicks\"].loc[experiment[\"Enrollments\"].notnull()].sum()\n",
    "\n",
    "GC_cont = enrollments_cont/clicks_cont\n",
    "GC_exp = enrollments_exp/clicks_exp\n",
    "GC_pooled = (enrollments_cont + enrollments_exp)/(clicks_cont + clicks_exp)\n",
    "\n",
    "NC_cont = payments_cont/clicks_cont\n",
    "NC_exp = payments_exp/clicks_exp\n",
    "NC_pooled = (payments_cont + payments_exp)/(clicks_cont + clicks_exp)\n",
    "\n",
    "R_cont = payments_cont/enrollments_cont\n",
    "R_exp = payments_exp/enrollments_exp\n",
    "R_pooled = (payments_cont + payments_exp)/(enrollments_cont + enrollments_exp)\n",
    "\n",
    "#計算信賴區間\n",
    "GC_diff = round((GC_exp - GC_cont),4)\n",
    "sd_pooled2 = ( GC_pooled*(1-GC_pooled)*(1/clicks_cont+1/clicks_exp) )**0.5\n",
    "ME2 = round(z_value(1-(alpha/2))*sd_pooled2,4)\n",
    "print (\"GC_diff:\",GC_diff,\"而\",GC_diff-ME2,\"與\",GC_diff+ME2,\"有包含零？\")\n",
    "\n",
    "NC_diff = round((NC_exp - NC_cont),4)\n",
    "sd_pooled3 = ( NC_pooled*(1-NC_pooled)*(1/clicks_cont+1/clicks_exp) )**0.5\n",
    "ME3 = round(z_value(1-(alpha/2))*sd_pooled3,4)\n",
    "print (\"NC_diff:\",NC_diff,\"而\",NC_diff-ME3,\"與\",NC_diff+ME3,\"有包含零？\")\n",
    "\n",
    "R_diff = round((R_exp - R_cont),4)\n",
    "sd_pooled = ( R_pooled*(1-R_pooled)*(1/enrollments_cont+1/enrollments_exp) )**0.5\n",
    "ME4 = round(z_value(1-(alpha/2))*sd_pooled,4)\n",
    "print (\"R_diff:\",R_diff,\"而\",R_diff-ME4,\"與\",R_diff+ME4,\"有包含零？\")"
   ]
  },
  {
   "cell_type": "markdown",
   "metadata": {},
   "source": [
    "在GC，對照組顯著比實驗組好\n",
    "在NC，無顯著差異\n",
    "在R，實驗組顯著比對照組好\n",
    "\n",
    "當然也可以\n",
    "數據集合併(cont.join(exp))、去除缺失值、建立比較的配對變數，以data['new'] = np.where(m1>m2,1,0)生成新列\n",
    "計數不同列 x(為符合m1 > m2條件)，n為總數，另訂函數以計算 C n取x * 機率(如先前訂的是0.5)**x * (1-機率)**(n-x)\n",
    "def prob(x, n):\n",
    "    p = mt.factorial(n)/(mt.factorial(x)*mt.factorial(n-x))*0.5**x*0.5**(n-x)\n",
    "    return p\n",
    "以及\n",
    "def two_tail_pvalue(x,n):\n",
    "    p=0\n",
    "    for i in range(0,x+1):\n",
    "        p += get_prob(i,n)\n",
    "    return 2*p\n",
    "最後以two_tail_pvalue(x,n)來含括possibility(probability density)\n",
    "會得出與pool相同的結果"
   ]
  },
  {
   "cell_type": "markdown",
   "metadata": {},
   "source": [
    "# **作業 嘗試以函數算出樣本數**"
   ]
  },
  {
   "cell_type": "markdown",
   "metadata": {},
   "source": [
    "## 解答一\n",
    "可從四個變數中的三個（效應值、樣本數量、Type Ⅰ error水準(預設為0.05)、檢定力(1-Type Ⅱ error)），推導出第四個。\n",
    "套用statsmodels.stats.api(power).NormalIndPower().solve_power(effect_size, power, alpha, ratio)\\\n",
    "以及statsmodels.stats.proportion.proportion_effectsize(比例1, 比例2)"
   ]
  },
  {
   "cell_type": "code",
   "execution_count": 182,
   "metadata": {},
   "outputs": [
    {
     "data": {
      "text/plain": [
       "(0.04902341935447052, 6532)"
      ]
     },
     "execution_count": 182,
     "metadata": {},
     "output_type": "execute_result"
    }
   ],
   "source": [
    "effect_size = sms.proportion_effectsize(GC_cont-1*GC_diff, GC_cont+0*GC_diff)\n",
    "required_n = sms.NormalIndPower().solve_power(\n",
    "    effect_size, \n",
    "    power=0.8, \n",
    "    alpha=0.05, \n",
    "    ratio=1\n",
    "    ) \n",
    "required_n = mt.ceil(required_n) #無條件進位\n",
    "\n",
    "(effect_size,required_n)"
   ]
  },
  {
   "cell_type": "markdown",
   "metadata": {},
   "source": [
    "## 解答二\n",
    "Tammy Rotem : 樣本數n是根據以下公式 \n",
    "\n",
    "pow((z值1*標準差1 + z值2*標準差2),2) / pow(d,2)"
   ]
  },
  {
   "cell_type": "code",
   "execution_count": 185,
   "metadata": {},
   "outputs": [
    {
     "data": {
      "text/plain": [
       "6258"
      ]
     },
     "execution_count": 185,
     "metadata": {},
     "output_type": "execute_result"
    }
   ],
   "source": [
    "# 根據H0 : Pcont = Pexp ; H1 : Pcont - Pexp = d，取得sd_cont, sd_exp\n",
    "def count_sds(p,d):\n",
    "    sd_0 = ( 2*p*(1-p) )**0.5\n",
    "    sd_1 = ( p*(1-p) + (p+d)*(1-(p+d)) )**0.5\n",
    "    sds = [sd_0, sd_1]\n",
    "    return sds\n",
    "def Sample_Number(sds,alpha,power,d): # alpha對應H0, 1-beta對應H1\n",
    "    n = (z_value(1-alpha/2)*sds[0] + z_value(power)*sds[1])**2 / d**2\n",
    "    return n\n",
    "\n",
    "mt.ceil(Sample_Number(count_sds(GC_cont, GC_diff),0.05,0.8,GC_diff))"
   ]
  },
  {
   "cell_type": "markdown",
   "metadata": {
    "id": "MKB09_mjFwjN"
   },
   "source": [
    "# **作業** 自行開發雙樣本比例的信賴區間函數\n"
   ]
  },
  {
   "cell_type": "markdown",
   "metadata": {},
   "source": [
    "## 解答一 : pdiff"
   ]
  },
  {
   "cell_type": "code",
   "execution_count": 216,
   "metadata": {},
   "outputs": [
    {
     "data": {
      "text/plain": [
       "(-0.012530660817334408, array([-0.01801297, -0.00704835]))"
      ]
     },
     "execution_count": 216,
     "metadata": {},
     "output_type": "execute_result"
    }
   ],
   "source": [
    "def two_proprotions_confint(success_a, size_a, success_b, size_b, alpha):\n",
    "    prop_a = success_a / size_a\n",
    "    prop_b = success_b / size_b\n",
    "    prop_pool = (success_a + success_b) / (size_a + size_b)\n",
    "    prop_diff = prop_b - prop_a\n",
    "    \n",
    "    # standard formula for the confidence interval\n",
    "    # point-estimtate +- z * standard_error\n",
    "    se = np.sqrt( prop_a * (1 - prop_a) / size_a + prop_b * (1 - prop_b) / size_b ) \n",
    "    #等同於prop_pool*(1-prop_pool)*(1/size_a + 1/size_b)\n",
    "\n",
    "    confidence = 1 - alpha\n",
    "    #norm(loc=mean,scale=standard deviation)，等同前述的(1-alpha/2)\n",
    "    z = norm.ppf(confidence + alpha / 2)\n",
    "    CI = prop_diff + np.array([-1, 1]) * z * se\n",
    "    return prop_diff, CI\n",
    "\n",
    "two_proprotions_confint(enrollments_cont, clicks_cont, enrollments_exp, clicks_exp, 0.05)"
   ]
  },
  {
   "cell_type": "markdown",
   "metadata": {},
   "source": [
    "## 解答二 : 先pool"
   ]
  },
  {
   "cell_type": "code",
   "execution_count": 217,
   "metadata": {},
   "outputs": [
    {
     "data": {
      "text/plain": [
       "(-0.012530660817334408, array([-0.01801415, -0.00704717]))"
      ]
     },
     "execution_count": 217,
     "metadata": {},
     "output_type": "execute_result"
    }
   ],
   "source": [
    "GC_cont = enrollments_cont/clicks_cont\n",
    "GC_exp = enrollments_exp/clicks_exp\n",
    "GC_pooled = (enrollments_cont + enrollments_exp)/(clicks_cont + clicks_exp)\n",
    "prop_diff = GC_exp - GC_cont\n",
    "\n",
    "\n",
    "def pdiff_CI(prop_pool, num_a, num_b, alhpa):\n",
    "    se = (prop_pool*(1-prop_pool)*(1/num_a + 1/num_b))**0.5\n",
    "    z = norm.ppf(1-alpha/2)\n",
    "    return prop_diff, np.array([prop_diff-z*se, prop_diff+z*se])\n",
    "\n",
    "pdiff_CI(GC_pooled, clicks_cont, clicks_exp, 0.05)"
   ]
  }
 ],
 "metadata": {
  "colab": {
   "name": "ab-tests-with-python_作業.ipynb",
   "provenance": []
  },
  "kernelspec": {
   "display_name": "Python 3",
   "language": "python",
   "name": "python3"
  },
  "language_info": {
   "codemirror_mode": {
    "name": "ipython",
    "version": 3
   },
   "file_extension": ".py",
   "mimetype": "text/x-python",
   "name": "python",
   "nbconvert_exporter": "python",
   "pygments_lexer": "ipython3",
   "version": "3.8.5"
  }
 },
 "nbformat": 4,
 "nbformat_minor": 1
}
